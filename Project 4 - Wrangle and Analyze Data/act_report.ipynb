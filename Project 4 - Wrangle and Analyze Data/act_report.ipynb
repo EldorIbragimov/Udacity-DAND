{
 "cells": [
  {
   "cell_type": "markdown",
   "metadata": {
    "slideshow": {
     "slide_type": "slide"
    }
   },
   "source": [
    "<a id='home'></a>\n",
    "# Investigation of Twitter archive of `WeRateDogs`\n",
    "\n",
    "## Table of Contents\n",
    "<ol>\n",
    "    <li><a href=\"#Introduction\">Introduction</a></li>\n",
    "    <li><a href=\"#question\">Questions imposed</a></li>\n",
    "    <li><a href=\"#eda\">Exploratory Data Analysis</a></li>\n",
    "    <li><a href=\"#end\">The End</a></li>\n",
    "</ol>"
   ]
  },
  {
   "cell_type": "markdown",
   "metadata": {
    "slideshow": {
     "slide_type": "skip"
    }
   },
   "source": [
    "<a id='Introduction'></a>\n",
    "## Introduction\n",
    "\n",
    "\n",
    "<a href=\"#home\">Home</a>"
   ]
  },
  {
   "cell_type": "markdown",
   "metadata": {
    "slideshow": {
     "slide_type": "slide"
    }
   },
   "source": [
    "### About the Dataset\n",
    "\n",
    "\n",
    "<img src = 'image/1.png'>\n",
    "\n",
    "The dataset that is being wrangled (and analyzed and visualized) is the tweet archive of Twitter user @dog_rates, also known as WeRateDogs. WeRateDogs is a Twitter account that rates people's dogs with a humorous comment about the dog. These ratings almost always have a denominator of 10. The numerators, though? Almost always greater than 10. 11/10, 12/10, 13/10, etc. Why? Because \"they're good dogs Brent.\" WeRateDogs has over 4 million followers and has received international media coverage.\n",
    "\n",
    "This archive contains basic tweet data (tweet ID, timestamp, text, etc.) for all 5000+ of their tweets as they stood on August 1, 2017. More on this soon.\n",
    "\n",
    "### Inspiration\n",
    "Is it possible to find the best rated dogs based on the tweets"
   ]
  },
  {
   "cell_type": "markdown",
   "metadata": {
    "slideshow": {
     "slide_type": "slide"
    }
   },
   "source": [
    "<a id='question'></a>\n",
    "### Questions -\n",
    "- Ratio of people missing appointments\n",
    "- Absence of people based on gender\n",
    "- Appointments based on hour of the day\n",
    "- Appointments based on the days of the week\n",
    "- Appointments based on month\n",
    "- Most important factor which leads to their absence\n",
    "\n",
    "\n",
    "<a href=\"#home\">Home</a>"
   ]
  },
  {
   "cell_type": "markdown",
   "metadata": {
    "slideshow": {
     "slide_type": "slide"
    }
   },
   "source": [
    "<a id='eda'></a>\n",
    "## Exploratory Data Analysis\n",
    "\n",
    "\n",
    "<img src = 'image/2.png'>\n",
    "\n",
    "<a href=\"#home\">Home</a>\n",
    "### Research Question 1 (Replace this header name!)"
   ]
  },
  {
   "cell_type": "markdown",
   "metadata": {
    "slideshow": {
     "slide_type": "slide"
    }
   },
   "source": [
    "### Basic plots based on the available columns"
   ]
  },
  {
   "cell_type": "markdown",
   "metadata": {},
   "source": [
    "### Plot 1\n",
    "\n",
    "#### Average Rating of dogs based on their category\n",
    "\n",
    "\n"
   ]
  },
  {
   "cell_type": "markdown",
   "metadata": {},
   "source": [
    "\n",
    "<img src = 'image/4.png'>"
   ]
  },
  {
   "cell_type": "markdown",
   "metadata": {},
   "source": [
    "The above plot shows that `normal` category dogs have got highest rating. Also their rating has highest deviation. `pupper` category dogs have got the least rating with the lest amoun of deviation.\n",
    "\n",
    "\n",
    "### Plot 2\n",
    "\n",
    "#### No of tweets based on month\n",
    "\n"
   ]
  },
  {
   "cell_type": "markdown",
   "metadata": {},
   "source": [
    "\n",
    "<img src = 'image/5.png'>"
   ]
  },
  {
   "cell_type": "markdown",
   "metadata": {},
   "source": [
    "The above plot shows that `December` and `November` are the months having he most no of tweets. `August` has the least no of tweets.\n",
    "\n",
    "### Plot 3\n",
    "#### No of tweets based on the day of the week"
   ]
  },
  {
   "cell_type": "markdown",
   "metadata": {},
   "source": [
    "\n",
    "<img src = 'image/6.png'>"
   ]
  },
  {
   "cell_type": "markdown",
   "metadata": {},
   "source": [
    "The above plot shows that `Monday` is having the highest no of tweets. Also we can see that the no of tweets gradually decrease along the week from `Monday` to `Saturday`.\n",
    "\n",
    "\n",
    "### Plot 4\n",
    "#### Average Rating of doga based on the day of week\n"
   ]
  },
  {
   "cell_type": "markdown",
   "metadata": {},
   "source": [
    "\n",
    "<img src = 'image/7.png'>"
   ]
  },
  {
   "cell_type": "markdown",
   "metadata": {},
   "source": [
    "The above plot shows that `Monday` and `Saturday` are having the highest rating among all the days of the week. Also we can see that both of them are having higest amount of deviation. The statistics for the other days are almost the same.\n",
    "\n",
    "### Plot 5\n",
    "\n",
    "#### No of tweets based on hour of the Day"
   ]
  },
  {
   "cell_type": "markdown",
   "metadata": {},
   "source": [
    "\n",
    "<img src = 'image/8.png'>"
   ]
  },
  {
   "cell_type": "markdown",
   "metadata": {},
   "source": [
    "The above plot shows that the most no of tweets are done in the early morning time and during the evening around 5. The time duration between 5AM and 2PM is having the least number of tweets.\n",
    "\n",
    "\n",
    "### Plot 6\n",
    "#### Retweets based on time difference"
   ]
  },
  {
   "cell_type": "markdown",
   "metadata": {},
   "source": [
    "\n",
    "<img src = 'image/9.png'>"
   ]
  },
  {
   "cell_type": "markdown",
   "metadata": {},
   "source": [
    "The above plot shows that most of the retweets are done within 1 day of the tweeted time. This number of tweets gradully decrease as the time difference increase. After the ertain period which looks near 1 year, the no of retweets are approximately 0.\n",
    "\n",
    "\n",
    "### Plot 7\n",
    "\n",
    "#### Heatmap"
   ]
  },
  {
   "cell_type": "markdown",
   "metadata": {},
   "source": [
    "\n",
    "<img src = 'image/10.png'>"
   ]
  },
  {
   "cell_type": "markdown",
   "metadata": {},
   "source": [
    "The above heatmap shows that the `rating` is mostly dependent on the `numerator` of the rating rather than the `denominator`. `Hour` is least correlated with the `rating`  as it has value of `0.02`. We can also see some negative correlation between `retweetTime`, `re-Hour` and `denominator`, `re-Hour`. This means that the retweet hour is important in determining the rating of the dogs.\n",
    "\n",
    "### Plot 8\n",
    "#### Top 10 most common names of Dogs"
   ]
  },
  {
   "cell_type": "markdown",
   "metadata": {},
   "source": [
    "\n",
    "<img src = 'image/11.png'>"
   ]
  },
  {
   "cell_type": "markdown",
   "metadata": {},
   "source": [
    "From the above plot we can see that the most common names for dogs are - `Charlie`, `Cooper`, `Lucy`, `Oliver`, `Tucker`, `Lola`, `Penny`, `Bo`, `Winston` and `Sadie`\n",
    "\n",
    "\n",
    "### Plot 9\n",
    "#### Top 10 most rated dogs"
   ]
  },
  {
   "cell_type": "markdown",
   "metadata": {},
   "source": [
    "\n",
    "<img src = 'image/13.png'>"
   ]
  },
  {
   "cell_type": "markdown",
   "metadata": {},
   "source": [
    "\n",
    "<img src = 'image/12.png'>"
   ]
  },
  {
   "cell_type": "markdown",
   "metadata": {},
   "source": [
    "From the above plot we can see that the top 10 highest rated dogs are `Atticus`, `Sam`, `Doobert`, `one`, `Laika`, `Ollie`, `Gary`, `Bo` and `Sunny`\n",
    "\n",
    "Above all `Atticus` is the highest rated dog with rating of `177.6`"
   ]
  },
  {
   "cell_type": "markdown",
   "metadata": {},
   "source": [
    "### Some of the happy followers of `WeRateDogs`\n",
    "<img src = 'image/3.png'>"
   ]
  },
  {
   "cell_type": "markdown",
   "metadata": {},
   "source": [
    "\n",
    "<a id='end'></a>\n",
    "## The End\n",
    "\n",
    "<a href=\"#home\">Home</a>"
   ]
  }
 ],
 "metadata": {
  "kernelspec": {
   "display_name": "Python 3",
   "language": "python",
   "name": "python3"
  },
  "language_info": {
   "codemirror_mode": {
    "name": "ipython",
    "version": 3
   },
   "file_extension": ".py",
   "mimetype": "text/x-python",
   "name": "python",
   "nbconvert_exporter": "python",
   "pygments_lexer": "ipython3",
   "version": "3.7.3"
  }
 },
 "nbformat": 4,
 "nbformat_minor": 2
}
