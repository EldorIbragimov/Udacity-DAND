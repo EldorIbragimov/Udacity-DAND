{
 "cells": [
  {
   "cell_type": "markdown",
   "metadata": {},
   "source": [
    "<a id='home'></a>\n",
    "# Investigation of Twitter archive of `WeRateDogs`\n",
    "\n",
    "## Table of Contents\n",
    "<ol>\n",
    "    <li><a href=\"#Introduction\">Introduction</a></li>\n",
    "    <li><a href=\"#question\">Questions imposed</a></li>\n",
    "    <li><a href=\"#wrangling\">Data Wrangling</a></li>\n",
    "    <ul>\n",
    "    <li><a href=\"#gathering\">Gathering Data</a></li>\n",
    "    <li><a href=\"#accessing\">Accessing Data</a></li>\n",
    "    <li><a href=\"#cleaning\">Cleaning Data</a></li>\n",
    "    </ul>\n",
    "    <li><a href=\"#end\">End</a></li>\n",
    "</ol>"
   ]
  },
  {
   "cell_type": "markdown",
   "metadata": {},
   "source": [
    "<a id='Introduction'></a>\n",
    "## Introduction\n",
    "\n",
    "<a href=\"#home\">Home</a>"
   ]
  },
  {
   "cell_type": "markdown",
   "metadata": {},
   "source": [
    "### About the Dataset\n",
    "\n",
    "The dataset that is being wrangled (and analyzed and visualized) is the tweet archive of Twitter user @dog_rates, also known as WeRateDogs. WeRateDogs is a Twitter account that rates people's dogs with a humorous comment about the dog. These ratings almost always have a denominator of 10. The numerators, though? Almost always greater than 10. 11/10, 12/10, 13/10, etc. Why? Because \"they're good dogs Brent.\" WeRateDogs has over 4 million followers and has received international media coverage.\n",
    "\n",
    "This archive contains basic tweet data (tweet ID, timestamp, text, etc.) for all 5000+ of their tweets as they stood on August 1, 2017. More on this soon.\n",
    "\n",
    "### Inspiration\n",
    "Is it possible to find the best rated dogs based on the tweets"
   ]
  },
  {
   "cell_type": "markdown",
   "metadata": {},
   "source": [
    "<a id='question'></a>\n",
    "### Questions -\n",
    "- Ratings of dogs based on type\n",
    "- Best dog according to rating\n",
    "- Tweets based on hour of the day\n",
    "- Tweets based on the days of the week\n",
    "- Tweets based on month\n",
    "- Most important factor which leads to better rating\n",
    "\n",
    "\n",
    "<a href=\"#home\">Home</a>"
   ]
  },
  {
   "cell_type": "markdown",
   "metadata": {},
   "source": [
    "<a id='wrangling'></a>\n",
    "## Data Wrangling\n",
    "\n",
    "\n",
    "<a href=\"#home\">Home</a>\n",
    "\n",
    "<a id='gathering'></a>\n",
    "### Gathering Data\n",
    "Data has been gathered in 3 different formats from 3 different sources. Data files included are `twitter-archive-enhanced.csv`, `image-predictions.tsv` from url https://d17h27t6h515a5.cloudfront.net/topher/2017/August/599fd2ad_image-predictions/image-predictions.tsv) and retweet and favorite counts from Twitter's API as `tweet-json.txt`\n"
   ]
  },
  {
   "cell_type": "markdown",
   "metadata": {},
   "source": [
    "<a id='accessing'></a>\n",
    "\n",
    "\n",
    "\n",
    "### Accessing Data\n",
    "\n",
    "<a href=\"#home\">Home</a>\n",
    "#### General Properties\n",
    "\n",
    "- The given dataframe has 2356 rows and 17 different columns\n",
    "- Columns are \n",
    "       'tweet_id', 'in_reply_to_status_id', 'in_reply_to_user_id', 'timestamp',\n",
    "       'source', 'text', 'retweeted_status_id', 'retweeted_status_user_id',\n",
    "       'retweeted_status_timestamp', 'expanded_urls', 'rating_numerator',\n",
    "       'rating_denominator', 'name', 'doggo', 'floofer', 'pupper', 'puppo'\n",
    "- `in_reply_to_status_id` and `in_reply_to_user_id` have only 78 not-null values\n",
    "\n",
    "- `retweeted_status_id`, `retweeted_status_user_id` and `retweeted_status_timestamp` have only 181 not-null values\n"
   ]
  },
  {
   "cell_type": "markdown",
   "metadata": {},
   "source": [
    "\n",
    "- Data types are \n",
    "\n",
    "|Column Name                  |     Count     | Data Type |\n",
    "|-----------------------------|---------------|-----------|\n",
    "|tweet_id                     | 2356 non-null |  int64    |\n",
    "|in_reply_to_status_id        | 78 non-null   |  float64  |\n",
    "|in_reply_to_user_id          | 78 non-null   |  float64  |\n",
    "|timestamp                    | 2356 non-null |  object   | \n",
    "|source                       | 2356 non-null |  object   |\n",
    "|text                         | 2356 non-null |  object   |\n",
    "|retweeted_status_id          | 181 non-null  |  float64  |\n",
    "|retweeted_status_user_id     | 181 non-null  |  float64  |\n",
    "|retweeted_status_timestamp   | 181 non-null  |  object   |\n",
    "|expanded_urls                | 2297 non-null |  object   |\n",
    "|rating_numerator             | 2356 non-null |  int64    |\n",
    "|rating_denominator           | 2356 non-null |  int64    |\n",
    "|name                         | 2356 non-null |  object   |\n",
    "|doggo                        | 2356 non-null |  object   |\n",
    "|floofer                      | 2356 non-null |  object   |\n",
    "|pupper                       | 2356 non-null |  object   |\n",
    "|puppo                        | 2356 non-null |  object   |"
   ]
  },
  {
   "cell_type": "markdown",
   "metadata": {},
   "source": [
    "|   -     |rating_numerator|rating_denominator |\n",
    "|---------|----------------|-------------------|\n",
    "|count\t  |2356.000000     | 2356.000000       |\n",
    "|mean     |13.126486       | 10.455433         |\n",
    "|std\t  |45.876648       | 6.745237          |\n",
    "|min\t  |0.000000\t       | 0.000000          |\n",
    "|25%\t  |10.000000       | 10.000000         |\n",
    "|50%\t  |11.000000       | 10.000000         |\n",
    "|75%\t  |12.000000       | 10.000000         |\n",
    "|max\t  |1776.000000     | 170.000000        |"
   ]
  },
  {
   "cell_type": "markdown",
   "metadata": {},
   "source": [
    "### Data Quality Issues\n",
    " \n",
    " 1. Many null values\n",
    " \n",
    "     - `in_reply_to_status_id`\n",
    "     \n",
    "     - `in_reply_to_user_id`\n",
    "     \n",
    "     - `retweeted_status_id`\n",
    "     \n",
    "     - `retweeted_status_user_id`\n",
    "     \n",
    "     \n",
    " 2. Incorrect data types\n",
    "     \n",
    "     - `tweet_id`\n",
    "     \n",
    "     - `in_reply_to_status_id`\n",
    "     \n",
    "     - `in_reply_to_user_id`\n",
    "     \n",
    "     - `retweeted_status_id`\n",
    "     \n",
    "     - `retweeted_status_user_id`\n",
    " \n",
    " \n",
    " 3. `rating_denominator` has minimum value as 0 which is not possible for denominators\n",
    " \n",
    " \n",
    " 4. `datetime` format for \n",
    " \n",
    "     - `timestamp`\n",
    "     \n",
    "     - `retweeted_status_timestamp`\n",
    "     \n",
    "     \n",
    " 5. Retweets need to be removed to avoid duplication in our analysis. This may be done by removing rows that have non-empty `retweeted_status_id`, `retweeted_status_user_id`, `and retweeted_status_timestamp`    \n",
    " \n",
    " \n",
    " 6. Add `rating` column as the ratio of numerator and denominator\n",
    " \n",
    " \n",
    " 7. Reorder the columns into similar ones close to each other after adding or removing some extra columns\n",
    " \n",
    " \n",
    " 8. Some numerators are wrongly entered. They are different as in the comments\n",
    " \n",
    " \n",
    "### Data Tidiness Issues\n",
    " - `category` column can be created to store the type of dog instead of the last 4 columns named as `doggo`, `floofer`, `pupper`, `puppo`\n",
    " \n",
    " \n",
    " - Information about one type of observational unit (tweets) is spread across three different dataframes. Therefore, these three dataframes should be merged as they are part of the same observational unit.\n",
    " \n"
   ]
  },
  {
   "cell_type": "markdown",
   "metadata": {},
   "source": [
    "<a id='cleaning'></a>\n",
    "\n",
    "### Data Cleaning\n",
    "\n",
    "<a href=\"#home\">Home</a>"
   ]
  },
  {
   "cell_type": "markdown",
   "metadata": {},
   "source": [
    "#### Remove retweets\n",
    "\n",
    " Retweets need to be removed to avoid duplication in our analysis. This may be done by removing rows that have non-empty `retweeted_status_id`, `retweeted_status_user_id`, `and retweeted_status_timestamp`    \n"
   ]
  },
  {
   "cell_type": "markdown",
   "metadata": {},
   "source": [
    "#### Modify Data types\n",
    "\n",
    "Change data types for `tweet_id`, `in_reply_to_status_id`, `in_reply_to_user_id`, `retweeted_status_id` and `retweeted_status_user_id`\n",
    "\n",
    "##### Syntax:\n",
    "\n",
    "`twitter_df['col_name'] = twitter_df['col_name'].astype('datatype')`"
   ]
  },
  {
   "cell_type": "markdown",
   "metadata": {},
   "source": [
    "#### Format Date\n",
    "\n",
    "Change `timestamp` and `retweeted_status_timestamp` columns datatype to `datetime` format\n",
    "     \n",
    "##### Syntax:\n",
    "\n",
    "`df['col_name'] = pd.to_datetime(df['timestamp'])`"
   ]
  },
  {
   "cell_type": "markdown",
   "metadata": {},
   "source": [
    "#### Drop record with 0 denominator\n",
    "\n",
    "Record having 0 as the denominator needs to be removed so that the value of rating is consistent\n",
    "\n",
    "##### Syntax:\n",
    "`null_index = df[df['rating_denominator'] == 0].index\n",
    "df = df.drop(null_index)`"
   ]
  },
  {
   "cell_type": "markdown",
   "metadata": {},
   "source": [
    "#### Wrongly entered Numerators\n",
    "\n",
    "Some numerators are wrongly entered. They are different as in the comments. These need to be corrected to get correct rating\n",
    "\n",
    "\n",
    "##### Syntax:\n",
    "`twitter_df.text.str.extract('((?:\\d+\\.)?\\d+)\\/(\\d+)', expand=True)`"
   ]
  },
  {
   "cell_type": "markdown",
   "metadata": {},
   "source": [
    "#### Add 'rating' column\n",
    "\n",
    "Add `rating` column as the ratio of numerator and denominator\n",
    "\n",
    "##### Syntax:\n",
    "\n",
    "`df['rating'] = df['rating_numerator']/df['rating_denominator']`"
   ]
  },
  {
   "cell_type": "markdown",
   "metadata": {},
   "source": [
    "#### Add category column\n",
    "\n",
    "`category` column can be created to store the type of dog instead of the last 4 columns named as `doggo`, `floofer`, `pupper`, `puppo`\n",
    " \n",
    " \n",
    "##### Syntax: \n",
    " - Create a function to assign the category to the dog\n",
    " - Use `apply` function to apply that function to all the rows of the dataset\n",
    "\n",
    "`df.apply (lambda row: label_category(row), axis=1).value_counts()`\n",
    "\n",
    "`df['category'] = df.apply (lambda row: label_category(row), axis=1)`"
   ]
  },
  {
   "cell_type": "markdown",
   "metadata": {},
   "source": [
    "#### Check for duplicate values\n",
    "\n",
    "Duplicate records can be removed as they lead to data redundance\n",
    "\n",
    "##### Syntax:\n",
    "`\n",
    "for _ in twitter_df.columns:\n",
    "    print(_,sum(twitter_df[_].duplicated()))`"
   ]
  },
  {
   "cell_type": "markdown",
   "metadata": {},
   "source": [
    "#### Check for unique values\n",
    "\n",
    "We can see if there is any impossible value as negative value for age or weight etc. We need to check for inly some particular columns\n",
    "\n",
    "##### Syntax:\n",
    "`\n",
    "cols = ['doggo', 'floofer', 'pupper', 'puppo', 'rating', 'category']\n",
    "for _ in cols:\n",
    "    print(_,len(twitter_df[_].unique()))\n",
    "    print((twitter_df[_].unique()),'\\n')\n",
    "    `"
   ]
  },
  {
   "cell_type": "markdown",
   "metadata": {},
   "source": [
    "#### Adding some extra columns to enhance our data usability\n",
    "\n",
    "Adding `Month`, `Day`, `Hour`, `re-Month`, `re-Day` and `re-Hour` columns to increase our understanding of the time stamps for the tweets and retweets\n",
    "\n",
    "##### Syantax:\n",
    "`twitter_df['col_name'] = twitter_df['existing_col_name'].dt.month_name()`"
   ]
  },
  {
   "cell_type": "markdown",
   "metadata": {},
   "source": [
    "#### Adding time difference between tweets and retweets\n",
    "\n",
    "Adding the time difference will help us in understanding that what is the average time taken for a new reteeets to be done.\n",
    "\n",
    "##### Syntax:\n",
    "`twitter_df['retweetTime'] = twitter_df['timestamp'] - twitter_df['retweeted_status_timestamp']`\n"
   ]
  },
  {
   "cell_type": "markdown",
   "metadata": {},
   "source": [
    "#### Final columns are - \n",
    "       'tweet_id', 'in_reply_to_status_id', 'in_reply_to_user_id', 'timestamp',\n",
    "       'source', 'text', 'retweeted_status_id', 'retweeted_status_user_id',\n",
    "       'retweeted_status_timestamp', 'expanded_urls', 'rating_numerator',\n",
    "       'rating_denominator', 'name', 'doggo', 'floofer', 'pupper', 'puppo',\n",
    "       'rating', 'category', 'Month', 'Day', 'Hour', 're-Month', 're-Day',\n",
    "       're-Hour', 'retweetTime'"
   ]
  },
  {
   "cell_type": "markdown",
   "metadata": {},
   "source": [
    "\n",
    "<a id='end'></a>\n",
    "## The End\n",
    "\n",
    "<a href=\"#home\">Home</a>"
   ]
  },
  {
   "cell_type": "markdown",
   "metadata": {},
   "source": []
  }
 ],
 "metadata": {
  "kernelspec": {
   "display_name": "Python 3",
   "language": "python",
   "name": "python3"
  },
  "language_info": {
   "codemirror_mode": {
    "name": "ipython",
    "version": 3
   },
   "file_extension": ".py",
   "mimetype": "text/x-python",
   "name": "python",
   "nbconvert_exporter": "python",
   "pygments_lexer": "ipython3",
   "version": "3.7.3"
  }
 },
 "nbformat": 4,
 "nbformat_minor": 2
}
